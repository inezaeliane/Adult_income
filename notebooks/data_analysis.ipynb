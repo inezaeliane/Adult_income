{
 "cells": [
  {
   "cell_type": "markdown",
   "id": "2bdd9170-95c2-4356-be73-d786abc4b0da",
   "metadata": {},
   "source": [
    "## UCI Adult Income Dataset - Exploratory and Descriptive Analysis\n",
    "\n",
    "This notebook is focused on the exploratory and decriptive analysis of the cleaned version of   the UCI Adult income Dataset."
   ]
  },
  {
   "cell_type": "code",
   "execution_count": 161,
   "id": "d107b113-a17e-4050-889e-7f42852f745d",
   "metadata": {},
   "outputs": [],
   "source": [
    "# import Libraries\n",
    "import pandas as pd\n",
    "import numpy as np\n",
    "import os\n",
    "import plotly.express as px"
   ]
  },
  {
   "cell_type": "markdown",
   "id": "7d26df53-b5d3-4d20-bd3c-ad5ffa46b6b2",
   "metadata": {},
   "source": [
    "## Define and create Paths"
   ]
  },
  {
   "cell_type": "code",
   "execution_count": 163,
   "id": "77e70f0a-446e-4f0d-9988-53808f7263b8",
   "metadata": {},
   "outputs": [],
   "source": [
    "# Get working directory\n",
    "current_dir=os.getcwd()\n",
    "\n",
    "# Go one directory up to root directory\n",
    "project_root_dir=os.path.dirname(current_dir)\n",
    "\n",
    "# Define paths to the data folders\n",
    "data_dir=os.path.join(project_root_dir,'data')\n",
    "raw_dir=os.path.join(data_dir,'raw')\n",
    "processed_dir=os.path.join(data_dir,'processed')\n",
    "\n",
    "# Define paths to results folders\n",
    "result_dir=os.path.join(project_root_dir,'results')\n",
    "\n",
    "# Define paths to Docs folder\n",
    "docs_dir=os.path.join(project_root_dir,'docs')\n",
    "\n",
    "# Create a directories if they do not exists\n",
    "\n",
    "os.makedirs(raw_dir,exist_ok=True)\n",
    "os.makedirs(processed_dir,exist_ok=True)\n",
    "os.makedirs(result_dir,exist_ok=True)\n",
    "os.makedirs(docs_dir,exist_ok=True)"
   ]
  },
  {
   "cell_type": "markdown",
   "id": "44b18ca1-5181-4b96-b4eb-ac28ec05e9a1",
   "metadata": {},
   "source": [
    "# Read data"
   ]
  },
  {
   "cell_type": "code",
   "execution_count": 165,
   "id": "a0513f78-090e-4d5e-ba0e-3b477847fd1c",
   "metadata": {},
   "outputs": [
    {
     "data": {
      "text/html": [
       "<div>\n",
       "<style scoped>\n",
       "    .dataframe tbody tr th:only-of-type {\n",
       "        vertical-align: middle;\n",
       "    }\n",
       "\n",
       "    .dataframe tbody tr th {\n",
       "        vertical-align: top;\n",
       "    }\n",
       "\n",
       "    .dataframe thead th {\n",
       "        text-align: right;\n",
       "    }\n",
       "</style>\n",
       "<table border=\"1\" class=\"dataframe\">\n",
       "  <thead>\n",
       "    <tr style=\"text-align: right;\">\n",
       "      <th></th>\n",
       "      <th>age</th>\n",
       "      <th>workclass</th>\n",
       "      <th>fnlwgt</th>\n",
       "      <th>education_num</th>\n",
       "      <th>marital_status</th>\n",
       "      <th>relationship</th>\n",
       "      <th>race</th>\n",
       "      <th>sex</th>\n",
       "      <th>capital_gain</th>\n",
       "      <th>capital_loss</th>\n",
       "      <th>hours_per_week</th>\n",
       "      <th>native_country</th>\n",
       "      <th>income</th>\n",
       "      <th>education_level</th>\n",
       "      <th>occupation_grouped</th>\n",
       "      <th>native_region</th>\n",
       "      <th>age_group</th>\n",
       "    </tr>\n",
       "  </thead>\n",
       "  <tbody>\n",
       "    <tr>\n",
       "      <th>0</th>\n",
       "      <td>39</td>\n",
       "      <td>government</td>\n",
       "      <td>77516</td>\n",
       "      <td>13</td>\n",
       "      <td>single</td>\n",
       "      <td>single</td>\n",
       "      <td>white</td>\n",
       "      <td>male</td>\n",
       "      <td>2174</td>\n",
       "      <td>0</td>\n",
       "      <td>40</td>\n",
       "      <td>united-states</td>\n",
       "      <td>&lt;=50k</td>\n",
       "      <td>tertiary</td>\n",
       "      <td>white collar</td>\n",
       "      <td>north america</td>\n",
       "      <td>36-45</td>\n",
       "    </tr>\n",
       "    <tr>\n",
       "      <th>1</th>\n",
       "      <td>50</td>\n",
       "      <td>self-employed</td>\n",
       "      <td>83311</td>\n",
       "      <td>13</td>\n",
       "      <td>married</td>\n",
       "      <td>male spouse</td>\n",
       "      <td>white</td>\n",
       "      <td>male</td>\n",
       "      <td>0</td>\n",
       "      <td>0</td>\n",
       "      <td>13</td>\n",
       "      <td>united-states</td>\n",
       "      <td>&lt;=50k</td>\n",
       "      <td>tertiary</td>\n",
       "      <td>white collar</td>\n",
       "      <td>north america</td>\n",
       "      <td>46-60</td>\n",
       "    </tr>\n",
       "    <tr>\n",
       "      <th>2</th>\n",
       "      <td>38</td>\n",
       "      <td>private</td>\n",
       "      <td>215646</td>\n",
       "      <td>9</td>\n",
       "      <td>divorced or separated</td>\n",
       "      <td>single</td>\n",
       "      <td>white</td>\n",
       "      <td>male</td>\n",
       "      <td>0</td>\n",
       "      <td>0</td>\n",
       "      <td>40</td>\n",
       "      <td>united-states</td>\n",
       "      <td>&lt;=50k</td>\n",
       "      <td>highschoolgraduate</td>\n",
       "      <td>blue collar</td>\n",
       "      <td>north america</td>\n",
       "      <td>36-45</td>\n",
       "    </tr>\n",
       "    <tr>\n",
       "      <th>3</th>\n",
       "      <td>53</td>\n",
       "      <td>private</td>\n",
       "      <td>234721</td>\n",
       "      <td>7</td>\n",
       "      <td>married</td>\n",
       "      <td>male spouse</td>\n",
       "      <td>black</td>\n",
       "      <td>male</td>\n",
       "      <td>0</td>\n",
       "      <td>0</td>\n",
       "      <td>40</td>\n",
       "      <td>united-states</td>\n",
       "      <td>&lt;=50k</td>\n",
       "      <td>secondary</td>\n",
       "      <td>blue collar</td>\n",
       "      <td>north america</td>\n",
       "      <td>46-60</td>\n",
       "    </tr>\n",
       "    <tr>\n",
       "      <th>4</th>\n",
       "      <td>28</td>\n",
       "      <td>private</td>\n",
       "      <td>338409</td>\n",
       "      <td>13</td>\n",
       "      <td>married</td>\n",
       "      <td>female spouse</td>\n",
       "      <td>black</td>\n",
       "      <td>female</td>\n",
       "      <td>0</td>\n",
       "      <td>0</td>\n",
       "      <td>40</td>\n",
       "      <td>cuba</td>\n",
       "      <td>&lt;=50k</td>\n",
       "      <td>tertiary</td>\n",
       "      <td>white collar</td>\n",
       "      <td>central america</td>\n",
       "      <td>26-35</td>\n",
       "    </tr>\n",
       "    <tr>\n",
       "      <th>5</th>\n",
       "      <td>37</td>\n",
       "      <td>private</td>\n",
       "      <td>284582</td>\n",
       "      <td>14</td>\n",
       "      <td>married</td>\n",
       "      <td>female spouse</td>\n",
       "      <td>white</td>\n",
       "      <td>female</td>\n",
       "      <td>0</td>\n",
       "      <td>0</td>\n",
       "      <td>40</td>\n",
       "      <td>united-states</td>\n",
       "      <td>&lt;=50k</td>\n",
       "      <td>tertiary</td>\n",
       "      <td>white collar</td>\n",
       "      <td>north america</td>\n",
       "      <td>36-45</td>\n",
       "    </tr>\n",
       "    <tr>\n",
       "      <th>6</th>\n",
       "      <td>49</td>\n",
       "      <td>private</td>\n",
       "      <td>160187</td>\n",
       "      <td>5</td>\n",
       "      <td>divorced or separated</td>\n",
       "      <td>single</td>\n",
       "      <td>black</td>\n",
       "      <td>female</td>\n",
       "      <td>0</td>\n",
       "      <td>0</td>\n",
       "      <td>16</td>\n",
       "      <td>jamaica</td>\n",
       "      <td>&lt;=50k</td>\n",
       "      <td>secondary</td>\n",
       "      <td>service</td>\n",
       "      <td>central america</td>\n",
       "      <td>46-60</td>\n",
       "    </tr>\n",
       "    <tr>\n",
       "      <th>7</th>\n",
       "      <td>52</td>\n",
       "      <td>self-employed</td>\n",
       "      <td>209642</td>\n",
       "      <td>9</td>\n",
       "      <td>married</td>\n",
       "      <td>male spouse</td>\n",
       "      <td>white</td>\n",
       "      <td>male</td>\n",
       "      <td>0</td>\n",
       "      <td>0</td>\n",
       "      <td>45</td>\n",
       "      <td>united-states</td>\n",
       "      <td>&gt;50k</td>\n",
       "      <td>highschoolgraduate</td>\n",
       "      <td>white collar</td>\n",
       "      <td>north america</td>\n",
       "      <td>46-60</td>\n",
       "    </tr>\n",
       "    <tr>\n",
       "      <th>8</th>\n",
       "      <td>31</td>\n",
       "      <td>private</td>\n",
       "      <td>45781</td>\n",
       "      <td>14</td>\n",
       "      <td>single</td>\n",
       "      <td>single</td>\n",
       "      <td>white</td>\n",
       "      <td>female</td>\n",
       "      <td>14084</td>\n",
       "      <td>0</td>\n",
       "      <td>50</td>\n",
       "      <td>united-states</td>\n",
       "      <td>&gt;50k</td>\n",
       "      <td>tertiary</td>\n",
       "      <td>white collar</td>\n",
       "      <td>north america</td>\n",
       "      <td>26-35</td>\n",
       "    </tr>\n",
       "    <tr>\n",
       "      <th>9</th>\n",
       "      <td>42</td>\n",
       "      <td>private</td>\n",
       "      <td>159449</td>\n",
       "      <td>13</td>\n",
       "      <td>married</td>\n",
       "      <td>male spouse</td>\n",
       "      <td>white</td>\n",
       "      <td>male</td>\n",
       "      <td>5178</td>\n",
       "      <td>0</td>\n",
       "      <td>40</td>\n",
       "      <td>united-states</td>\n",
       "      <td>&gt;50k</td>\n",
       "      <td>tertiary</td>\n",
       "      <td>white collar</td>\n",
       "      <td>north america</td>\n",
       "      <td>36-45</td>\n",
       "    </tr>\n",
       "  </tbody>\n",
       "</table>\n",
       "</div>"
      ],
      "text/plain": [
       "   age      workclass  fnlwgt  education_num         marital_status  \\\n",
       "0   39     government   77516             13                 single   \n",
       "1   50  self-employed   83311             13                married   \n",
       "2   38        private  215646              9  divorced or separated   \n",
       "3   53        private  234721              7                married   \n",
       "4   28        private  338409             13                married   \n",
       "5   37        private  284582             14                married   \n",
       "6   49        private  160187              5  divorced or separated   \n",
       "7   52  self-employed  209642              9                married   \n",
       "8   31        private   45781             14                 single   \n",
       "9   42        private  159449             13                married   \n",
       "\n",
       "    relationship   race     sex  capital_gain  capital_loss  hours_per_week  \\\n",
       "0         single  white    male          2174             0              40   \n",
       "1    male spouse  white    male             0             0              13   \n",
       "2         single  white    male             0             0              40   \n",
       "3    male spouse  black    male             0             0              40   \n",
       "4  female spouse  black  female             0             0              40   \n",
       "5  female spouse  white  female             0             0              40   \n",
       "6         single  black  female             0             0              16   \n",
       "7    male spouse  white    male             0             0              45   \n",
       "8         single  white  female         14084             0              50   \n",
       "9    male spouse  white    male          5178             0              40   \n",
       "\n",
       "  native_country income     education_level occupation_grouped  \\\n",
       "0  united-states  <=50k            tertiary       white collar   \n",
       "1  united-states  <=50k            tertiary       white collar   \n",
       "2  united-states  <=50k  highschoolgraduate        blue collar   \n",
       "3  united-states  <=50k           secondary        blue collar   \n",
       "4           cuba  <=50k            tertiary       white collar   \n",
       "5  united-states  <=50k            tertiary       white collar   \n",
       "6        jamaica  <=50k           secondary            service   \n",
       "7  united-states   >50k  highschoolgraduate       white collar   \n",
       "8  united-states   >50k            tertiary       white collar   \n",
       "9  united-states   >50k            tertiary       white collar   \n",
       "\n",
       "     native_region age_group  \n",
       "0    north america     36-45  \n",
       "1    north america     46-60  \n",
       "2    north america     36-45  \n",
       "3    north america     46-60  \n",
       "4  central america     26-35  \n",
       "5    north america     36-45  \n",
       "6  central america     46-60  \n",
       "7    north america     46-60  \n",
       "8    north america     26-35  \n",
       "9    north america     36-45  "
      ]
     },
     "execution_count": 165,
     "metadata": {},
     "output_type": "execute_result"
    }
   ],
   "source": [
    "adult_data_filename=os.path.join(processed_dir,\"adult_cleaned.csv\")\n",
    "adult_df=pd.read_csv(adult_data_filename)\n",
    "adult_df.head(10)"
   ]
  },
  {
   "cell_type": "code",
   "execution_count": 166,
   "id": "0d071f0e-97e9-4eb4-a4b2-219ea0c8357b",
   "metadata": {},
   "outputs": [
    {
     "data": {
      "text/plain": [
       "(32514, 17)"
      ]
     },
     "execution_count": 166,
     "metadata": {},
     "output_type": "execute_result"
    }
   ],
   "source": [
    "adult_df.shape"
   ]
  },
  {
   "cell_type": "code",
   "execution_count": 167,
   "id": "74c25631-cf17-4792-9781-2229f38dbafe",
   "metadata": {},
   "outputs": [
    {
     "name": "stdout",
     "output_type": "stream",
     "text": [
      "<class 'pandas.core.frame.DataFrame'>\n",
      "RangeIndex: 32514 entries, 0 to 32513\n",
      "Data columns (total 17 columns):\n",
      " #   Column              Non-Null Count  Dtype \n",
      "---  ------              --------------  ----- \n",
      " 0   age                 32514 non-null  int64 \n",
      " 1   workclass           32514 non-null  object\n",
      " 2   fnlwgt              32514 non-null  int64 \n",
      " 3   education_num       32514 non-null  int64 \n",
      " 4   marital_status      32514 non-null  object\n",
      " 5   relationship        32514 non-null  object\n",
      " 6   race                32514 non-null  object\n",
      " 7   sex                 32514 non-null  object\n",
      " 8   capital_gain        32514 non-null  int64 \n",
      " 9   capital_loss        32514 non-null  int64 \n",
      " 10  hours_per_week      32514 non-null  int64 \n",
      " 11  native_country      32514 non-null  object\n",
      " 12  income              32514 non-null  object\n",
      " 13  education_level     32514 non-null  object\n",
      " 14  occupation_grouped  32514 non-null  object\n",
      " 15  native_region       32514 non-null  object\n",
      " 16  age_group           32514 non-null  object\n",
      "dtypes: int64(6), object(11)\n",
      "memory usage: 4.2+ MB\n"
     ]
    }
   ],
   "source": [
    "adult_df.info()"
   ]
  },
  {
   "cell_type": "markdown",
   "id": "bec3dbd0-5c98-499d-a819-403122992d17",
   "metadata": {},
   "source": [
    "## Summary Statistics\n",
    "### Numerical Varible"
   ]
  },
  {
   "cell_type": "code",
   "execution_count": 169,
   "id": "03fd79fe-499d-4ec3-a84f-21c9db5aab79",
   "metadata": {},
   "outputs": [
    {
     "data": {
      "text/html": [
       "<div>\n",
       "<style scoped>\n",
       "    .dataframe tbody tr th:only-of-type {\n",
       "        vertical-align: middle;\n",
       "    }\n",
       "\n",
       "    .dataframe tbody tr th {\n",
       "        vertical-align: top;\n",
       "    }\n",
       "\n",
       "    .dataframe thead th {\n",
       "        text-align: right;\n",
       "    }\n",
       "</style>\n",
       "<table border=\"1\" class=\"dataframe\">\n",
       "  <thead>\n",
       "    <tr style=\"text-align: right;\">\n",
       "      <th></th>\n",
       "      <th>age</th>\n",
       "      <th>fnlwgt</th>\n",
       "      <th>education_num</th>\n",
       "      <th>capital_gain</th>\n",
       "      <th>capital_loss</th>\n",
       "      <th>hours_per_week</th>\n",
       "    </tr>\n",
       "  </thead>\n",
       "  <tbody>\n",
       "    <tr>\n",
       "      <th>count</th>\n",
       "      <td>32514.000000</td>\n",
       "      <td>3.251400e+04</td>\n",
       "      <td>32514.000000</td>\n",
       "      <td>32514.000000</td>\n",
       "      <td>32514.000000</td>\n",
       "      <td>32514.000000</td>\n",
       "    </tr>\n",
       "    <tr>\n",
       "      <th>mean</th>\n",
       "      <td>38.589684</td>\n",
       "      <td>1.897916e+05</td>\n",
       "      <td>10.081626</td>\n",
       "      <td>1079.206619</td>\n",
       "      <td>87.430030</td>\n",
       "      <td>40.440026</td>\n",
       "    </tr>\n",
       "    <tr>\n",
       "      <th>std</th>\n",
       "      <td>13.639112</td>\n",
       "      <td>1.055782e+05</td>\n",
       "      <td>2.571975</td>\n",
       "      <td>7390.514416</td>\n",
       "      <td>403.237687</td>\n",
       "      <td>12.351147</td>\n",
       "    </tr>\n",
       "    <tr>\n",
       "      <th>min</th>\n",
       "      <td>17.000000</td>\n",
       "      <td>1.228500e+04</td>\n",
       "      <td>1.000000</td>\n",
       "      <td>0.000000</td>\n",
       "      <td>0.000000</td>\n",
       "      <td>1.000000</td>\n",
       "    </tr>\n",
       "    <tr>\n",
       "      <th>25%</th>\n",
       "      <td>28.000000</td>\n",
       "      <td>1.178285e+05</td>\n",
       "      <td>9.000000</td>\n",
       "      <td>0.000000</td>\n",
       "      <td>0.000000</td>\n",
       "      <td>40.000000</td>\n",
       "    </tr>\n",
       "    <tr>\n",
       "      <th>50%</th>\n",
       "      <td>37.000000</td>\n",
       "      <td>1.783560e+05</td>\n",
       "      <td>10.000000</td>\n",
       "      <td>0.000000</td>\n",
       "      <td>0.000000</td>\n",
       "      <td>40.000000</td>\n",
       "    </tr>\n",
       "    <tr>\n",
       "      <th>75%</th>\n",
       "      <td>48.000000</td>\n",
       "      <td>2.370492e+05</td>\n",
       "      <td>12.000000</td>\n",
       "      <td>0.000000</td>\n",
       "      <td>0.000000</td>\n",
       "      <td>45.000000</td>\n",
       "    </tr>\n",
       "    <tr>\n",
       "      <th>max</th>\n",
       "      <td>90.000000</td>\n",
       "      <td>1.484705e+06</td>\n",
       "      <td>16.000000</td>\n",
       "      <td>99999.000000</td>\n",
       "      <td>4356.000000</td>\n",
       "      <td>99.000000</td>\n",
       "    </tr>\n",
       "  </tbody>\n",
       "</table>\n",
       "</div>"
      ],
      "text/plain": [
       "                age        fnlwgt  education_num  capital_gain  capital_loss  \\\n",
       "count  32514.000000  3.251400e+04   32514.000000  32514.000000  32514.000000   \n",
       "mean      38.589684  1.897916e+05      10.081626   1079.206619     87.430030   \n",
       "std       13.639112  1.055782e+05       2.571975   7390.514416    403.237687   \n",
       "min       17.000000  1.228500e+04       1.000000      0.000000      0.000000   \n",
       "25%       28.000000  1.178285e+05       9.000000      0.000000      0.000000   \n",
       "50%       37.000000  1.783560e+05      10.000000      0.000000      0.000000   \n",
       "75%       48.000000  2.370492e+05      12.000000      0.000000      0.000000   \n",
       "max       90.000000  1.484705e+06      16.000000  99999.000000   4356.000000   \n",
       "\n",
       "       hours_per_week  \n",
       "count    32514.000000  \n",
       "mean        40.440026  \n",
       "std         12.351147  \n",
       "min          1.000000  \n",
       "25%         40.000000  \n",
       "50%         40.000000  \n",
       "75%         45.000000  \n",
       "max         99.000000  "
      ]
     },
     "execution_count": 169,
     "metadata": {},
     "output_type": "execute_result"
    }
   ],
   "source": [
    "adult_df.describe()"
   ]
  },
  {
   "cell_type": "markdown",
   "id": "c3f7be8c-1775-4e20-a0de-2d08d7429e9e",
   "metadata": {},
   "source": [
    "### categorical Variable"
   ]
  },
  {
   "cell_type": "code",
   "execution_count": 171,
   "id": "5aae56e8-bc6f-4c74-b8a2-310f4dee2cf6",
   "metadata": {},
   "outputs": [
    {
     "data": {
      "text/html": [
       "<div>\n",
       "<style scoped>\n",
       "    .dataframe tbody tr th:only-of-type {\n",
       "        vertical-align: middle;\n",
       "    }\n",
       "\n",
       "    .dataframe tbody tr th {\n",
       "        vertical-align: top;\n",
       "    }\n",
       "\n",
       "    .dataframe thead th {\n",
       "        text-align: right;\n",
       "    }\n",
       "</style>\n",
       "<table border=\"1\" class=\"dataframe\">\n",
       "  <thead>\n",
       "    <tr style=\"text-align: right;\">\n",
       "      <th></th>\n",
       "      <th>workclass</th>\n",
       "      <th>marital_status</th>\n",
       "      <th>relationship</th>\n",
       "      <th>race</th>\n",
       "      <th>sex</th>\n",
       "      <th>native_country</th>\n",
       "      <th>income</th>\n",
       "      <th>education_level</th>\n",
       "      <th>occupation_grouped</th>\n",
       "      <th>native_region</th>\n",
       "      <th>age_group</th>\n",
       "    </tr>\n",
       "  </thead>\n",
       "  <tbody>\n",
       "    <tr>\n",
       "      <th>count</th>\n",
       "      <td>32514</td>\n",
       "      <td>32514</td>\n",
       "      <td>32514</td>\n",
       "      <td>32514</td>\n",
       "      <td>32514</td>\n",
       "      <td>32514</td>\n",
       "      <td>32514</td>\n",
       "      <td>32514</td>\n",
       "      <td>32514</td>\n",
       "      <td>32514</td>\n",
       "      <td>32514</td>\n",
       "    </tr>\n",
       "    <tr>\n",
       "      <th>unique</th>\n",
       "      <td>7</td>\n",
       "      <td>4</td>\n",
       "      <td>5</td>\n",
       "      <td>5</td>\n",
       "      <td>2</td>\n",
       "      <td>42</td>\n",
       "      <td>2</td>\n",
       "      <td>7</td>\n",
       "      <td>5</td>\n",
       "      <td>7</td>\n",
       "      <td>7</td>\n",
       "    </tr>\n",
       "    <tr>\n",
       "      <th>top</th>\n",
       "      <td>private</td>\n",
       "      <td>married</td>\n",
       "      <td>male spouse</td>\n",
       "      <td>white</td>\n",
       "      <td>male</td>\n",
       "      <td>united-states</td>\n",
       "      <td>&lt;=50k</td>\n",
       "      <td>highschoolgraduate</td>\n",
       "      <td>white collar</td>\n",
       "      <td>north america</td>\n",
       "      <td>26-35</td>\n",
       "    </tr>\n",
       "    <tr>\n",
       "      <th>freq</th>\n",
       "      <td>22651</td>\n",
       "      <td>14984</td>\n",
       "      <td>13178</td>\n",
       "      <td>27772</td>\n",
       "      <td>21758</td>\n",
       "      <td>29131</td>\n",
       "      <td>24678</td>\n",
       "      <td>10484</td>\n",
       "      <td>16533</td>\n",
       "      <td>30019</td>\n",
       "      <td>8501</td>\n",
       "    </tr>\n",
       "  </tbody>\n",
       "</table>\n",
       "</div>"
      ],
      "text/plain": [
       "       workclass marital_status relationship   race    sex native_country  \\\n",
       "count      32514          32514        32514  32514  32514          32514   \n",
       "unique         7              4            5      5      2             42   \n",
       "top      private        married  male spouse  white   male  united-states   \n",
       "freq       22651          14984        13178  27772  21758          29131   \n",
       "\n",
       "       income     education_level occupation_grouped  native_region age_group  \n",
       "count   32514               32514              32514          32514     32514  \n",
       "unique      2                   7                  5              7         7  \n",
       "top     <=50k  highschoolgraduate       white collar  north america     26-35  \n",
       "freq    24678               10484              16533          30019      8501  "
      ]
     },
     "execution_count": 171,
     "metadata": {},
     "output_type": "execute_result"
    }
   ],
   "source": [
    "adult_df.describe(include='object')"
   ]
  },
  {
   "cell_type": "code",
   "execution_count": 172,
   "id": "37bbc706-7b8a-46a7-babc-741e97d7350c",
   "metadata": {},
   "outputs": [
    {
     "data": {
      "text/plain": [
       "workclass\n",
       "private          22651\n",
       "self-employed     3656\n",
       "government        2257\n",
       "local-gov         2093\n",
       "unknown           1836\n",
       "voluntary           14\n",
       "unemployed           7\n",
       "Name: count, dtype: int64"
      ]
     },
     "execution_count": 172,
     "metadata": {},
     "output_type": "execute_result"
    }
   ],
   "source": [
    "#if you want values\n",
    "adult_df['workclass'].value_counts()"
   ]
  },
  {
   "cell_type": "code",
   "execution_count": 173,
   "id": "8cc2ae21-c596-4990-ade9-7440b2f2ed86",
   "metadata": {},
   "outputs": [
    {
     "data": {
      "text/plain": [
       "workclass\n",
       "private          0.696654\n",
       "self-employed    0.112444\n",
       "government       0.069416\n",
       "local-gov        0.064372\n",
       "unknown          0.056468\n",
       "voluntary        0.000431\n",
       "unemployed       0.000215\n",
       "Name: proportion, dtype: float64"
      ]
     },
     "execution_count": 173,
     "metadata": {},
     "output_type": "execute_result"
    }
   ],
   "source": [
    "adult_df['workclass'].value_counts(normalize=True)"
   ]
  },
  {
   "cell_type": "code",
   "execution_count": 185,
   "id": "2abd45c6-389e-41a4-b45a-6b253b82ef77",
   "metadata": {},
   "outputs": [
    {
     "data": {
      "text/plain": [
       "marital_status\n",
       "married                  0.460848\n",
       "single                   0.327705\n",
       "divorced or separated    0.180907\n",
       "widowed                  0.030541\n",
       "Name: proportion, dtype: float64"
      ]
     },
     "execution_count": 185,
     "metadata": {},
     "output_type": "execute_result"
    }
   ],
   "source": [
    "adult_df['marital_status'].value_counts(normalize=True)"
   ]
  },
  {
   "cell_type": "code",
   "execution_count": 187,
   "id": "3cc7a798-23c4-45c0-9b74-145ffcb0c68e",
   "metadata": {},
   "outputs": [
    {
     "data": {
      "text/plain": [
       "relationship\n",
       "male spouse          0.405302\n",
       "single               0.360706\n",
       "child                0.155595\n",
       "female spouse        0.048225\n",
       "extended relative    0.030172\n",
       "Name: proportion, dtype: float64"
      ]
     },
     "execution_count": 187,
     "metadata": {},
     "output_type": "execute_result"
    }
   ],
   "source": [
    "adult_df['relationship'].value_counts(normalize=True)"
   ]
  },
  {
   "cell_type": "code",
   "execution_count": 189,
   "id": "29de612d-2d07-4d26-bcc4-28649868449b",
   "metadata": {},
   "outputs": [
    {
     "data": {
      "text/plain": [
       "race\n",
       "white                        0.854155\n",
       "black                        0.096020\n",
       "asian or pacific islander    0.031925\n",
       "american indian or eskimo    0.009565\n",
       "other                        0.008335\n",
       "Name: proportion, dtype: float64"
      ]
     },
     "execution_count": 189,
     "metadata": {},
     "output_type": "execute_result"
    }
   ],
   "source": [
    "adult_df['race'].value_counts(normalize=True)"
   ]
  },
  {
   "cell_type": "code",
   "execution_count": 191,
   "id": "63bea675-140f-4ad2-864e-f7988e03e585",
   "metadata": {},
   "outputs": [
    {
     "data": {
      "text/plain": [
       "sex\n",
       "male      0.669189\n",
       "female    0.330811\n",
       "Name: proportion, dtype: float64"
      ]
     },
     "execution_count": 191,
     "metadata": {},
     "output_type": "execute_result"
    }
   ],
   "source": [
    "adult_df['sex'].value_counts(normalize=True)"
   ]
  },
  {
   "cell_type": "code",
   "execution_count": 193,
   "id": "c913362c-4666-48d9-be19-0bbd1c0df0c8",
   "metadata": {},
   "outputs": [
    {
     "data": {
      "text/plain": [
       "income\n",
       "<=50k    0.758996\n",
       ">50k     0.241004\n",
       "Name: proportion, dtype: float64"
      ]
     },
     "execution_count": 193,
     "metadata": {},
     "output_type": "execute_result"
    }
   ],
   "source": [
    "adult_df['income'].value_counts(normalize=True)"
   ]
  },
  {
   "cell_type": "code",
   "execution_count": 195,
   "id": "d35966bc-54bc-49e3-bbab-fb696a22abc9",
   "metadata": {},
   "outputs": [
    {
     "data": {
      "text/plain": [
       "education_level\n",
       "highschoolgraduate    0.322446\n",
       "tertiary              0.247801\n",
       "samecollege           0.223811\n",
       "secondary             0.093929\n",
       "associate             0.075321\n",
       "primary               0.035154\n",
       "preschool             0.001538\n",
       "Name: proportion, dtype: float64"
      ]
     },
     "execution_count": 195,
     "metadata": {},
     "output_type": "execute_result"
    }
   ],
   "source": [
    "adult_df['education_level'].value_counts(normalize=True)"
   ]
  },
  {
   "cell_type": "code",
   "execution_count": 197,
   "id": "6f0da3ef-2816-4a54-8bba-f9da226348dd",
   "metadata": {},
   "outputs": [
    {
     "data": {
      "text/plain": [
       "occupation_grouped\n",
       "white collar    0.508489\n",
       "blue collar     0.308852\n",
       "service         0.125700\n",
       "unknown         0.056683\n",
       "miritary        0.000277\n",
       "Name: proportion, dtype: float64"
      ]
     },
     "execution_count": 197,
     "metadata": {},
     "output_type": "execute_result"
    }
   ],
   "source": [
    "adult_df['occupation_grouped'].value_counts(normalize=True)"
   ]
  },
  {
   "cell_type": "code",
   "execution_count": 199,
   "id": "f9eff58c-db52-4d45-bceb-a72d80f26008",
   "metadata": {},
   "outputs": [
    {
     "data": {
      "text/plain": [
       "native_region\n",
       "north america      0.923264\n",
       "asia               0.020637\n",
       "other              0.017869\n",
       "central america    0.016116\n",
       "europe             0.016024\n",
       "south america      0.005229\n",
       "south ameriaca     0.000861\n",
       "Name: proportion, dtype: float64"
      ]
     },
     "execution_count": 199,
     "metadata": {},
     "output_type": "execute_result"
    }
   ],
   "source": [
    "adult_df['native_region'].value_counts(normalize=True)"
   ]
  },
  {
   "cell_type": "code",
   "execution_count": 201,
   "id": "1b4f1b64-079b-4a3a-a864-396287712755",
   "metadata": {},
   "outputs": [
    {
     "data": {
      "text/plain": [
       "age_group\n",
       "26-35    0.261457\n",
       "36-45    0.246079\n",
       "46-60    0.224150\n",
       "18-25    0.167559\n",
       "61-75    0.064311\n",
       "<18      0.029064\n",
       "76+      0.007381\n",
       "Name: proportion, dtype: float64"
      ]
     },
     "execution_count": 201,
     "metadata": {},
     "output_type": "execute_result"
    }
   ],
   "source": [
    "adult_df['age_group'].value_counts(normalize=True)"
   ]
  },
  {
   "cell_type": "markdown",
   "id": "3f38269f-4113-4c8d-97aa-f977437499ab",
   "metadata": {},
   "source": [
    "## Income Distribution"
   ]
  },
  {
   "cell_type": "code",
   "execution_count": 203,
   "id": "3656ec17-90bb-4911-a697-bc57d8f1488b",
   "metadata": {},
   "outputs": [
    {
     "data": {
      "text/html": [
       "<div>\n",
       "<style scoped>\n",
       "    .dataframe tbody tr th:only-of-type {\n",
       "        vertical-align: middle;\n",
       "    }\n",
       "\n",
       "    .dataframe tbody tr th {\n",
       "        vertical-align: top;\n",
       "    }\n",
       "\n",
       "    .dataframe thead th {\n",
       "        text-align: right;\n",
       "    }\n",
       "</style>\n",
       "<table border=\"1\" class=\"dataframe\">\n",
       "  <thead>\n",
       "    <tr style=\"text-align: right;\">\n",
       "      <th></th>\n",
       "      <th>income</th>\n",
       "      <th>total</th>\n",
       "    </tr>\n",
       "  </thead>\n",
       "  <tbody>\n",
       "    <tr>\n",
       "      <th>0</th>\n",
       "      <td>&lt;=50k</td>\n",
       "      <td>24678</td>\n",
       "    </tr>\n",
       "    <tr>\n",
       "      <th>1</th>\n",
       "      <td>&gt;50k</td>\n",
       "      <td>7836</td>\n",
       "    </tr>\n",
       "  </tbody>\n",
       "</table>\n",
       "</div>"
      ],
      "text/plain": [
       "  income  total\n",
       "0  <=50k  24678\n",
       "1   >50k   7836"
      ]
     },
     "execution_count": 203,
     "metadata": {},
     "output_type": "execute_result"
    }
   ],
   "source": [
    "adult_df_income=adult_df.groupby('income').size().reset_index(name='total')\n",
    "adult_df_income"
   ]
  },
  {
   "cell_type": "code",
   "execution_count": 205,
   "id": "75807e81-31d7-4853-9885-da9314957d32",
   "metadata": {},
   "outputs": [
    {
     "data": {
      "application/vnd.plotly.v1+json": {
       "config": {
        "plotlyServerURL": "https://plot.ly"
       },
       "data": [
        {
         "domain": {
          "x": [
           0,
           1
          ],
          "y": [
           0,
           1
          ]
         },
         "hovertemplate": "income=%{label}<br>total=%{value}<extra></extra>",
         "labels": [
          "<=50k",
          ">50k"
         ],
         "legendgroup": "",
         "name": "",
         "showlegend": true,
         "type": "pie",
         "values": {
          "_inputArray": {
           "0": 24678,
           "1": 7836,
           "bdata": "ZmCcHg==",
           "dtype": "i2",
           "shape": "2"
          },
          "bdata": "ZmCcHg==",
          "dtype": "i2"
         }
        }
       ],
       "layout": {
        "autosize": true,
        "legend": {
         "tracegroupgap": 0
        },
        "paper_bgcolor": "rgba(0, 0, 0, 0)",
        "piecolorway": [
         "teal",
         "LightSeaGreen"
        ],
        "plot_bgcolor": "rgba(0, 0, 0, 0)",
        "template": {
         "data": {
          "pie": [
           {
            "automargin": true,
            "type": "pie"
           }
          ],
          "scatter": [
           {
            "line": {
             "width": 3
            },
            "marker": {
             "size": 9
            },
            "type": "scatter"
           }
          ],
          "scatter3d": [
           {
            "line": {
             "width": 3
            },
            "marker": {
             "size": 9
            },
            "type": "scatter3d"
           }
          ],
          "scattergeo": [
           {
            "line": {
             "width": 3
            },
            "marker": {
             "size": 9
            },
            "type": "scattergeo"
           }
          ],
          "scattergl": [
           {
            "line": {
             "width": 3
            },
            "marker": {
             "size": 9
            },
            "type": "scattergl"
           }
          ],
          "scatterpolar": [
           {
            "line": {
             "width": 3
            },
            "marker": {
             "size": 9
            },
            "type": "scatterpolar"
           }
          ],
          "scatterpolargl": [
           {
            "line": {
             "width": 3
            },
            "marker": {
             "size": 9
            },
            "type": "scatterpolargl"
           }
          ],
          "scatterternary": [
           {
            "line": {
             "width": 3
            },
            "marker": {
             "size": 9
            },
            "type": "scatterternary"
           }
          ],
          "table": [
           {
            "cells": {
             "height": 30
            },
            "header": {
             "height": 36
            },
            "type": "table"
           }
          ]
         },
         "layout": {
          "font": {
           "size": 18
          },
          "xaxis": {
           "title": {
            "standoff": 15
           }
          },
          "yaxis": {
           "title": {
            "standoff": 15
           }
          }
         }
        },
        "title": {
         "text": "Overall Income Distribution"
        }
       }
      },
      "image/png": "[encoded data removed]"
     },
     "metadata": {},
     "output_type": "display_data"
    }
   ],
   "source": [
    "fig=px.pie(\n",
    "    adult_df_income,names='income',values='total',\n",
    "    title='Overall Income Distribution',\n",
    "    color_discrete_sequence=[\"teal\",\"LightSeaGreen\"],\n",
    ")\n",
    "fig.update_layout(template=\"presentation\", paper_bgcolor=\"rgba(0,0,0,0)\",plot_bgcolor=(\"rgba(0,0,0,0)\"))\n",
    "fig.show()\n",
    "fig.write_image(os.path.join(result_dir,'income_distribution_pie_chart.jpg'))\n",
    "fig.write_image(os.path.join(result_dir,'income_distribution_pie_chart.png'))\n",
    "fig.write_html(os.path.join(result_dir,'income_distribution_pie_chart.html'))"
   ]
  },
  {
   "cell_type": "code",
   "execution_count": 209,
   "id": "e932f26b-f9f1-4838-b5a5-dd8154ca9c0d",
   "metadata": {},
   "outputs": [
    {
     "data": {
      "text/html": [
       "<div>\n",
       "<style scoped>\n",
       "    .dataframe tbody tr th:only-of-type {\n",
       "        vertical-align: middle;\n",
       "    }\n",
       "\n",
       "    .dataframe tbody tr th {\n",
       "        vertical-align: top;\n",
       "    }\n",
       "\n",
       "    .dataframe thead th {\n",
       "        text-align: right;\n",
       "    }\n",
       "</style>\n",
       "<table border=\"1\" class=\"dataframe\">\n",
       "  <thead>\n",
       "    <tr style=\"text-align: right;\">\n",
       "      <th></th>\n",
       "      <th>age_group</th>\n",
       "      <th>income</th>\n",
       "      <th>total_by_age</th>\n",
       "    </tr>\n",
       "  </thead>\n",
       "  <tbody>\n",
       "    <tr>\n",
       "      <th>0</th>\n",
       "      <td>18-25</td>\n",
       "      <td>&lt;=50k</td>\n",
       "      <td>5334</td>\n",
       "    </tr>\n",
       "    <tr>\n",
       "      <th>1</th>\n",
       "      <td>18-25</td>\n",
       "      <td>&gt;50k</td>\n",
       "      <td>114</td>\n",
       "    </tr>\n",
       "    <tr>\n",
       "      <th>2</th>\n",
       "      <td>26-35</td>\n",
       "      <td>&lt;=50k</td>\n",
       "      <td>6910</td>\n",
       "    </tr>\n",
       "    <tr>\n",
       "      <th>3</th>\n",
       "      <td>26-35</td>\n",
       "      <td>&gt;50k</td>\n",
       "      <td>1591</td>\n",
       "    </tr>\n",
       "    <tr>\n",
       "      <th>4</th>\n",
       "      <td>36-45</td>\n",
       "      <td>&lt;=50k</td>\n",
       "      <td>5230</td>\n",
       "    </tr>\n",
       "    <tr>\n",
       "      <th>5</th>\n",
       "      <td>36-45</td>\n",
       "      <td>&gt;50k</td>\n",
       "      <td>2771</td>\n",
       "    </tr>\n",
       "    <tr>\n",
       "      <th>6</th>\n",
       "      <td>46-60</td>\n",
       "      <td>&lt;=50k</td>\n",
       "      <td>4479</td>\n",
       "    </tr>\n",
       "    <tr>\n",
       "      <th>7</th>\n",
       "      <td>46-60</td>\n",
       "      <td>&gt;50k</td>\n",
       "      <td>2809</td>\n",
       "    </tr>\n",
       "    <tr>\n",
       "      <th>8</th>\n",
       "      <td>61-75</td>\n",
       "      <td>&lt;=50k</td>\n",
       "      <td>1580</td>\n",
       "    </tr>\n",
       "    <tr>\n",
       "      <th>9</th>\n",
       "      <td>61-75</td>\n",
       "      <td>&gt;50k</td>\n",
       "      <td>511</td>\n",
       "    </tr>\n",
       "    <tr>\n",
       "      <th>10</th>\n",
       "      <td>76+</td>\n",
       "      <td>&lt;=50k</td>\n",
       "      <td>200</td>\n",
       "    </tr>\n",
       "    <tr>\n",
       "      <th>11</th>\n",
       "      <td>76+</td>\n",
       "      <td>&gt;50k</td>\n",
       "      <td>40</td>\n",
       "    </tr>\n",
       "    <tr>\n",
       "      <th>12</th>\n",
       "      <td>&lt;18</td>\n",
       "      <td>&lt;=50k</td>\n",
       "      <td>945</td>\n",
       "    </tr>\n",
       "  </tbody>\n",
       "</table>\n",
       "</div>"
      ],
      "text/plain": [
       "   age_group income  total_by_age\n",
       "0      18-25  <=50k          5334\n",
       "1      18-25   >50k           114\n",
       "2      26-35  <=50k          6910\n",
       "3      26-35   >50k          1591\n",
       "4      36-45  <=50k          5230\n",
       "5      36-45   >50k          2771\n",
       "6      46-60  <=50k          4479\n",
       "7      46-60   >50k          2809\n",
       "8      61-75  <=50k          1580\n",
       "9      61-75   >50k           511\n",
       "10       76+  <=50k           200\n",
       "11       76+   >50k            40\n",
       "12       <18  <=50k           945"
      ]
     },
     "execution_count": 209,
     "metadata": {},
     "output_type": "execute_result"
    }
   ],
   "source": [
    "adult_df_income_age=adult_df.groupby(['age_group','income']).size().reset_index(name='total_by_age')\n",
    "adult_df_income_age\n"
   ]
  },
  {
   "cell_type": "code",
   "execution_count": 211,
   "id": "417a9b5c-61d6-4871-976b-87bdc89d8c46",
   "metadata": {},
   "outputs": [
    {
     "data": {
      "text/html": [
       "<div>\n",
       "<style scoped>\n",
       "    .dataframe tbody tr th:only-of-type {\n",
       "        vertical-align: middle;\n",
       "    }\n",
       "\n",
       "    .dataframe tbody tr th {\n",
       "        vertical-align: top;\n",
       "    }\n",
       "\n",
       "    .dataframe thead th {\n",
       "        text-align: right;\n",
       "    }\n",
       "</style>\n",
       "<table border=\"1\" class=\"dataframe\">\n",
       "  <thead>\n",
       "    <tr style=\"text-align: right;\">\n",
       "      <th></th>\n",
       "      <th>age_group</th>\n",
       "      <th>income</th>\n",
       "      <th>total_by_age</th>\n",
       "      <th>percentage</th>\n",
       "    </tr>\n",
       "  </thead>\n",
       "  <tbody>\n",
       "    <tr>\n",
       "      <th>0</th>\n",
       "      <td>18-25</td>\n",
       "      <td>&lt;=50k</td>\n",
       "      <td>5334</td>\n",
       "      <td>97.907489</td>\n",
       "    </tr>\n",
       "    <tr>\n",
       "      <th>1</th>\n",
       "      <td>18-25</td>\n",
       "      <td>&gt;50k</td>\n",
       "      <td>114</td>\n",
       "      <td>2.092511</td>\n",
       "    </tr>\n",
       "    <tr>\n",
       "      <th>2</th>\n",
       "      <td>26-35</td>\n",
       "      <td>&lt;=50k</td>\n",
       "      <td>6910</td>\n",
       "      <td>81.284555</td>\n",
       "    </tr>\n",
       "    <tr>\n",
       "      <th>3</th>\n",
       "      <td>26-35</td>\n",
       "      <td>&gt;50k</td>\n",
       "      <td>1591</td>\n",
       "      <td>18.715445</td>\n",
       "    </tr>\n",
       "    <tr>\n",
       "      <th>4</th>\n",
       "      <td>36-45</td>\n",
       "      <td>&lt;=50k</td>\n",
       "      <td>5230</td>\n",
       "      <td>65.366829</td>\n",
       "    </tr>\n",
       "    <tr>\n",
       "      <th>5</th>\n",
       "      <td>36-45</td>\n",
       "      <td>&gt;50k</td>\n",
       "      <td>2771</td>\n",
       "      <td>34.633171</td>\n",
       "    </tr>\n",
       "    <tr>\n",
       "      <th>6</th>\n",
       "      <td>46-60</td>\n",
       "      <td>&lt;=50k</td>\n",
       "      <td>4479</td>\n",
       "      <td>61.457190</td>\n",
       "    </tr>\n",
       "    <tr>\n",
       "      <th>7</th>\n",
       "      <td>46-60</td>\n",
       "      <td>&gt;50k</td>\n",
       "      <td>2809</td>\n",
       "      <td>38.542810</td>\n",
       "    </tr>\n",
       "    <tr>\n",
       "      <th>8</th>\n",
       "      <td>61-75</td>\n",
       "      <td>&lt;=50k</td>\n",
       "      <td>1580</td>\n",
       "      <td>75.561932</td>\n",
       "    </tr>\n",
       "    <tr>\n",
       "      <th>9</th>\n",
       "      <td>61-75</td>\n",
       "      <td>&gt;50k</td>\n",
       "      <td>511</td>\n",
       "      <td>24.438068</td>\n",
       "    </tr>\n",
       "    <tr>\n",
       "      <th>10</th>\n",
       "      <td>76+</td>\n",
       "      <td>&lt;=50k</td>\n",
       "      <td>200</td>\n",
       "      <td>83.333333</td>\n",
       "    </tr>\n",
       "    <tr>\n",
       "      <th>11</th>\n",
       "      <td>76+</td>\n",
       "      <td>&gt;50k</td>\n",
       "      <td>40</td>\n",
       "      <td>16.666667</td>\n",
       "    </tr>\n",
       "    <tr>\n",
       "      <th>12</th>\n",
       "      <td>&lt;18</td>\n",
       "      <td>&lt;=50k</td>\n",
       "      <td>945</td>\n",
       "      <td>100.000000</td>\n",
       "    </tr>\n",
       "  </tbody>\n",
       "</table>\n",
       "</div>"
      ],
      "text/plain": [
       "   age_group income  total_by_age  percentage\n",
       "0      18-25  <=50k          5334   97.907489\n",
       "1      18-25   >50k           114    2.092511\n",
       "2      26-35  <=50k          6910   81.284555\n",
       "3      26-35   >50k          1591   18.715445\n",
       "4      36-45  <=50k          5230   65.366829\n",
       "5      36-45   >50k          2771   34.633171\n",
       "6      46-60  <=50k          4479   61.457190\n",
       "7      46-60   >50k          2809   38.542810\n",
       "8      61-75  <=50k          1580   75.561932\n",
       "9      61-75   >50k           511   24.438068\n",
       "10       76+  <=50k           200   83.333333\n",
       "11       76+   >50k            40   16.666667\n",
       "12       <18  <=50k           945  100.000000"
      ]
     },
     "execution_count": 211,
     "metadata": {},
     "output_type": "execute_result"
    }
   ],
   "source": [
    "total_per_group=adult_df_income_age.groupby('age_group')['total_by_age'].transform('sum')\n",
    "adult_df_income_age['percentage']=(adult_df_income_age['total_by_age']/total_per_group)*100\n",
    "adult_df_income_age"
   ]
  },
  {
   "cell_type": "code",
   "execution_count": 213,
   "id": "35b7e069-fa5b-45f8-bbe6-85b95a471a24",
   "metadata": {},
   "outputs": [
    {
     "data": {
      "application/vnd.plotly.v1+json": {
       "config": {
        "plotlyServerURL": "https://plot.ly"
       },
       "data": [
        {
         "alignmentgroup": "True",
         "hovertemplate": "income=<=50k<br>age_group=%{x}<br>percentage=%{text}<extra></extra>",
         "legendgroup": "<=50k",
         "marker": {
          "color": "teal",
          "pattern": {
           "shape": ""
          }
         },
         "name": "<=50k",
         "offsetgroup": "<=50k",
         "orientation": "v",
         "showlegend": true,
         "text": {
          "_inputArray": {
           "0": 97.90748898678414,
           "1": 81.28455475826374,
           "2": 65.36682914635671,
           "3": 61.457189901207464,
           "4": 75.56193208990913,
           "5": 83.33333333333334,
           "6": 100,
           "bdata": "9e2vTBR6WEB+KiklNlJUQJa09CB6V1BAr9/cMoW6TkDkLgOy9uNSQFZVVVVV1VRAAAAAAAAAWUA=",
           "dtype": "f8",
           "shape": "7"
          },
          "bdata": "9e2vTBR6WEB+KiklNlJUQJa09CB6V1BAr9/cMoW6TkDkLgOy9uNSQFZVVVVV1VRAAAAAAAAAWUA=",
          "dtype": "f8"
         },
         "textposition": "outside",
         "texttemplate": "%{text:.2f}%",
         "type": "bar",
         "x": [
          "18-25",
          "26-35",
          "36-45",
          "46-60",
          "61-75",
          "76+",
          "<18"
         ],
         "xaxis": "x",
         "y": {
          "_inputArray": {
           "0": 97.90748898678414,
           "1": 81.28455475826374,
           "2": 65.36682914635671,
           "3": 61.457189901207464,
           "4": 75.56193208990913,
           "5": 83.33333333333334,
           "6": 100,
           "bdata": "9e2vTBR6WEB+KiklNlJUQJa09CB6V1BAr9/cMoW6TkDkLgOy9uNSQFZVVVVV1VRAAAAAAAAAWUA=",
           "dtype": "f8",
           "shape": "7"
          },
          "bdata": "9e2vTBR6WEB+KiklNlJUQJa09CB6V1BAr9/cMoW6TkDkLgOy9uNSQFZVVVVV1VRAAAAAAAAAWUA=",
          "dtype": "f8"
         },
         "yaxis": "y"
        },
        {
         "alignmentgroup": "True",
         "hovertemplate": "income=>50k<br>age_group=%{x}<br>percentage=%{text}<extra></extra>",
         "legendgroup": ">50k",
         "marker": {
          "color": "LightSeaGreen",
          "pattern": {
           "shape": ""
          }
         },
         "name": ">50k",
         "offsetgroup": ">50k",
         "orientation": "v",
         "showlegend": true,
         "text": {
          "_inputArray": {
           "0": 2.092511013215859,
           "1": 18.715445241736266,
           "2": 34.6331708536433,
           "3": 38.542810098792536,
           "4": 24.438067910090865,
           "5": 16.666666666666664,
           "bdata": "aUECana9AEAJVltrJ7cyQNWWFr4LUUFAUSAjzXpFQ0BwRPM3JXA4QKqqqqqqqjBA",
           "dtype": "f8",
           "shape": "6"
          },
          "bdata": "aUECana9AEAJVltrJ7cyQNWWFr4LUUFAUSAjzXpFQ0BwRPM3JXA4QKqqqqqqqjBA",
          "dtype": "f8"
         },
         "textposition": "outside",
         "texttemplate": "%{text:.2f}%",
         "type": "bar",
         "x": [
          "18-25",
          "26-35",
          "36-45",
          "46-60",
          "61-75",
          "76+"
         ],
         "xaxis": "x",
         "y": {
          "_inputArray": {
           "0": 2.092511013215859,
           "1": 18.715445241736266,
           "2": 34.6331708536433,
           "3": 38.542810098792536,
           "4": 24.438067910090865,
           "5": 16.666666666666664,
           "bdata": "aUECana9AEAJVltrJ7cyQNWWFr4LUUFAUSAjzXpFQ0BwRPM3JXA4QKqqqqqqqjBA",
           "dtype": "f8",
           "shape": "6"
          },
          "bdata": "aUECana9AEAJVltrJ7cyQNWWFr4LUUFAUSAjzXpFQ0BwRPM3JXA4QKqqqqqqqjBA",
          "dtype": "f8"
         },
         "yaxis": "y"
        }
       ],
       "layout": {
        "autosize": true,
        "barmode": "group",
        "legend": {
         "title": {
          "text": "Income Level"
         },
         "tracegroupgap": 0
        },
        "paper_bgcolor": "rgba(0, 0, 0, 0)",
        "plot_bgcolor": "rgba(0, 0, 0, 0)",
        "template": {
         "data": {
          "pie": [
           {
            "automargin": true,
            "type": "pie"
           }
          ],
          "scatter": [
           {
            "line": {
             "width": 3
            },
            "marker": {
             "size": 9
            },
            "type": "scatter"
           }
          ],
          "scatter3d": [
           {
            "line": {
             "width": 3
            },
            "marker": {
             "size": 9
            },
            "type": "scatter3d"
           }
          ],
          "scattergeo": [
           {
            "line": {
             "width": 3
            },
            "marker": {
             "size": 9
            },
            "type": "scattergeo"
           }
          ],
          "scattergl": [
           {
            "line": {
             "width": 3
            },
            "marker": {
             "size": 9
            },
            "type": "scattergl"
           }
          ],
          "scatterpolar": [
           {
            "line": {
             "width": 3
            },
            "marker": {
             "size": 9
            },
            "type": "scatterpolar"
           }
          ],
          "scatterpolargl": [
           {
            "line": {
             "width": 3
            },
            "marker": {
             "size": 9
            },
            "type": "scatterpolargl"
           }
          ],
          "scatterternary": [
           {
            "line": {
             "width": 3
            },
            "marker": {
             "size": 9
            },
            "type": "scatterternary"
           }
          ],
          "table": [
           {
            "cells": {
             "height": 30
            },
            "header": {
             "height": 36
            },
            "type": "table"
           }
          ]
         },
         "layout": {
          "font": {
           "size": 18
          },
          "xaxis": {
           "title": {
            "standoff": 15
           }
          },
          "yaxis": {
           "title": {
            "standoff": 15
           }
          }
         }
        },
        "title": {
         "text": "Income Distribution by Age Group"
        },
        "xaxis": {
         "anchor": "y",
         "autorange": true,
         "domain": [
          0,
          1
         ],
         "range": [
          -0.5,
          6.5
         ],
         "title": {
          "text": "Age Group"
         },
         "type": "category"
        },
        "yaxis": {
         "anchor": "x",
         "autorange": true,
         "domain": [
          0,
          1
         ],
         "range": [
          0,
          105.26315789473684
         ],
         "title": {
          "text": "Percentage of population"
         },
         "type": "linear"
        }
       }
      },
      "image/png": "[encoded data removed]"
     },
     "metadata": {},
     "output_type": "display_data"
    }
   ],
   "source": [
    "fig=px.bar(adult_df_income_age,\n",
    "           x='age_group',\n",
    "           y='percentage',\n",
    "           color='income',\n",
    "           title='Income Distribution by Age Group',\n",
    "           color_discrete_sequence=[\"teal\",\"LightSeaGreen\"],\n",
    "           barmode='group',\n",
    "           text='percentage'\n",
    "           \n",
    "              \n",
    ")\n",
    "fig.update_layout(template=\"presentation\",\n",
    "                 xaxis_title='Age Group',\n",
    "                  yaxis_title='Percentage of population',\n",
    "                  legend_title=dict(text='Income Level'),\n",
    "                 paper_bgcolor=\"rgba(0,0,0,0)\",plot_bgcolor=(\"rgba(0,0,0,0)\"))\n",
    "fig.update_traces(texttemplate='%{text:.2f}%',textposition='outside') \n",
    "fig.show()\n",
    "fig.write_image(os.path.join(result_dir,'income_distribution-AgeGroup-bar_chart.jpg'))\n",
    "fig.write_image(os.path.join(result_dir,'income_distribution-AgeGroup_bar_chart.png'))\n",
    "fig.write_html(os.path.join(result_dir,'income_distribution-AgeGroup_bar_chart.html'))"
   ]
  },
  {
   "cell_type": "code",
   "execution_count": 214,
   "id": "97f3f181-2f85-4bab-8b7c-a8c2464bf647",
   "metadata": {},
   "outputs": [],
   "source": [
    "# List of all built-in Plotly templates\n",
    "themes = [\n",
    "    \"plotly\",          # Default Plotly theme\n",
    "    \"plotly_white\",    # White background\n",
    "    \"plotly_dark\",     # Dark mode\n",
    "    \"ggplot2\",         # ggplot2-style\n",
    "    \"seaborn\",         # Seaborn-style\n",
    "    \"simple_white\",    # Very minimal white theme\n",
    "    \"presentation\",    # Optimized for presentations\n",
    "    \"xgridoff\",        # Grid off on x-axis\n",
    "    \"ygridoff\",        # Grid off on y-axis\n",
    "    \"gridon\",          # Grid on\n",
    "    \"none\"             # No template at all\n",
    "]\n"
   ]
  },
  {
   "cell_type": "code",
   "execution_count": null,
   "id": "89870cd5-8aed-4655-8015-1f52e7723548",
   "metadata": {},
   "outputs": [],
   "source": [
    "#pip install -U kaleido"
   ]
  },
  {
   "cell_type": "code",
   "execution_count": null,
   "id": "761888bc-3752-427a-ae7d-f7b43cd6d852",
   "metadata": {},
   "outputs": [],
   "source": [
    "#pip install -U plotly"
   ]
  },
  {
   "cell_type": "code",
   "execution_count": 217,
   "id": "b3da330e-f9c1-40a0-9213-7a3d5f56bf0e",
   "metadata": {},
   "outputs": [
    {
     "data": {
      "text/html": [
       "<div>\n",
       "<style scoped>\n",
       "    .dataframe tbody tr th:only-of-type {\n",
       "        vertical-align: middle;\n",
       "    }\n",
       "\n",
       "    .dataframe tbody tr th {\n",
       "        vertical-align: top;\n",
       "    }\n",
       "\n",
       "    .dataframe thead th {\n",
       "        text-align: right;\n",
       "    }\n",
       "</style>\n",
       "<table border=\"1\" class=\"dataframe\">\n",
       "  <thead>\n",
       "    <tr style=\"text-align: right;\">\n",
       "      <th></th>\n",
       "      <th>native_region</th>\n",
       "      <th>income</th>\n",
       "      <th>total_by_region</th>\n",
       "    </tr>\n",
       "  </thead>\n",
       "  <tbody>\n",
       "    <tr>\n",
       "      <th>0</th>\n",
       "      <td>asia</td>\n",
       "      <td>&lt;=50k</td>\n",
       "      <td>465</td>\n",
       "    </tr>\n",
       "    <tr>\n",
       "      <th>1</th>\n",
       "      <td>asia</td>\n",
       "      <td>&gt;50k</td>\n",
       "      <td>206</td>\n",
       "    </tr>\n",
       "    <tr>\n",
       "      <th>2</th>\n",
       "      <td>central america</td>\n",
       "      <td>&lt;=50k</td>\n",
       "      <td>466</td>\n",
       "    </tr>\n",
       "    <tr>\n",
       "      <th>3</th>\n",
       "      <td>central america</td>\n",
       "      <td>&gt;50k</td>\n",
       "      <td>58</td>\n",
       "    </tr>\n",
       "    <tr>\n",
       "      <th>4</th>\n",
       "      <td>europe</td>\n",
       "      <td>&lt;=50k</td>\n",
       "      <td>369</td>\n",
       "    </tr>\n",
       "    <tr>\n",
       "      <th>5</th>\n",
       "      <td>europe</td>\n",
       "      <td>&gt;50k</td>\n",
       "      <td>152</td>\n",
       "    </tr>\n",
       "    <tr>\n",
       "      <th>6</th>\n",
       "      <td>north america</td>\n",
       "      <td>&lt;=50k</td>\n",
       "      <td>22769</td>\n",
       "    </tr>\n",
       "    <tr>\n",
       "      <th>7</th>\n",
       "      <td>north america</td>\n",
       "      <td>&gt;50k</td>\n",
       "      <td>7250</td>\n",
       "    </tr>\n",
       "    <tr>\n",
       "      <th>8</th>\n",
       "      <td>other</td>\n",
       "      <td>&lt;=50k</td>\n",
       "      <td>435</td>\n",
       "    </tr>\n",
       "    <tr>\n",
       "      <th>9</th>\n",
       "      <td>other</td>\n",
       "      <td>&gt;50k</td>\n",
       "      <td>146</td>\n",
       "    </tr>\n",
       "    <tr>\n",
       "      <th>10</th>\n",
       "      <td>south ameriaca</td>\n",
       "      <td>&lt;=50k</td>\n",
       "      <td>24</td>\n",
       "    </tr>\n",
       "    <tr>\n",
       "      <th>11</th>\n",
       "      <td>south ameriaca</td>\n",
       "      <td>&gt;50k</td>\n",
       "      <td>4</td>\n",
       "    </tr>\n",
       "    <tr>\n",
       "      <th>12</th>\n",
       "      <td>south america</td>\n",
       "      <td>&lt;=50k</td>\n",
       "      <td>150</td>\n",
       "    </tr>\n",
       "    <tr>\n",
       "      <th>13</th>\n",
       "      <td>south america</td>\n",
       "      <td>&gt;50k</td>\n",
       "      <td>20</td>\n",
       "    </tr>\n",
       "  </tbody>\n",
       "</table>\n",
       "</div>"
      ],
      "text/plain": [
       "      native_region income  total_by_region\n",
       "0              asia  <=50k              465\n",
       "1              asia   >50k              206\n",
       "2   central america  <=50k              466\n",
       "3   central america   >50k               58\n",
       "4            europe  <=50k              369\n",
       "5            europe   >50k              152\n",
       "6     north america  <=50k            22769\n",
       "7     north america   >50k             7250\n",
       "8             other  <=50k              435\n",
       "9             other   >50k              146\n",
       "10   south ameriaca  <=50k               24\n",
       "11   south ameriaca   >50k                4\n",
       "12    south america  <=50k              150\n",
       "13    south america   >50k               20"
      ]
     },
     "execution_count": 217,
     "metadata": {},
     "output_type": "execute_result"
    }
   ],
   "source": [
    "adult_df_income_reg=adult_df.groupby(['native_region','income']).size().reset_index(name='total_by_region')\n",
    "adult_df_income_reg"
   ]
  },
  {
   "cell_type": "code",
   "execution_count": 219,
   "id": "e2f42320-9403-46a4-af66-56307e7c18e0",
   "metadata": {},
   "outputs": [
    {
     "data": {
      "text/html": [
       "<div>\n",
       "<style scoped>\n",
       "    .dataframe tbody tr th:only-of-type {\n",
       "        vertical-align: middle;\n",
       "    }\n",
       "\n",
       "    .dataframe tbody tr th {\n",
       "        vertical-align: top;\n",
       "    }\n",
       "\n",
       "    .dataframe thead th {\n",
       "        text-align: right;\n",
       "    }\n",
       "</style>\n",
       "<table border=\"1\" class=\"dataframe\">\n",
       "  <thead>\n",
       "    <tr style=\"text-align: right;\">\n",
       "      <th></th>\n",
       "      <th>native_region</th>\n",
       "      <th>income</th>\n",
       "      <th>total_by_region</th>\n",
       "      <th>percentage</th>\n",
       "    </tr>\n",
       "  </thead>\n",
       "  <tbody>\n",
       "    <tr>\n",
       "      <th>0</th>\n",
       "      <td>asia</td>\n",
       "      <td>&lt;=50k</td>\n",
       "      <td>465</td>\n",
       "      <td>69.299553</td>\n",
       "    </tr>\n",
       "    <tr>\n",
       "      <th>1</th>\n",
       "      <td>asia</td>\n",
       "      <td>&gt;50k</td>\n",
       "      <td>206</td>\n",
       "      <td>30.700447</td>\n",
       "    </tr>\n",
       "    <tr>\n",
       "      <th>2</th>\n",
       "      <td>central america</td>\n",
       "      <td>&lt;=50k</td>\n",
       "      <td>466</td>\n",
       "      <td>88.931298</td>\n",
       "    </tr>\n",
       "    <tr>\n",
       "      <th>3</th>\n",
       "      <td>central america</td>\n",
       "      <td>&gt;50k</td>\n",
       "      <td>58</td>\n",
       "      <td>11.068702</td>\n",
       "    </tr>\n",
       "    <tr>\n",
       "      <th>4</th>\n",
       "      <td>europe</td>\n",
       "      <td>&lt;=50k</td>\n",
       "      <td>369</td>\n",
       "      <td>70.825336</td>\n",
       "    </tr>\n",
       "    <tr>\n",
       "      <th>5</th>\n",
       "      <td>europe</td>\n",
       "      <td>&gt;50k</td>\n",
       "      <td>152</td>\n",
       "      <td>29.174664</td>\n",
       "    </tr>\n",
       "    <tr>\n",
       "      <th>6</th>\n",
       "      <td>north america</td>\n",
       "      <td>&lt;=50k</td>\n",
       "      <td>22769</td>\n",
       "      <td>75.848629</td>\n",
       "    </tr>\n",
       "    <tr>\n",
       "      <th>7</th>\n",
       "      <td>north america</td>\n",
       "      <td>&gt;50k</td>\n",
       "      <td>7250</td>\n",
       "      <td>24.151371</td>\n",
       "    </tr>\n",
       "    <tr>\n",
       "      <th>8</th>\n",
       "      <td>other</td>\n",
       "      <td>&lt;=50k</td>\n",
       "      <td>435</td>\n",
       "      <td>74.870912</td>\n",
       "    </tr>\n",
       "    <tr>\n",
       "      <th>9</th>\n",
       "      <td>other</td>\n",
       "      <td>&gt;50k</td>\n",
       "      <td>146</td>\n",
       "      <td>25.129088</td>\n",
       "    </tr>\n",
       "    <tr>\n",
       "      <th>10</th>\n",
       "      <td>south ameriaca</td>\n",
       "      <td>&lt;=50k</td>\n",
       "      <td>24</td>\n",
       "      <td>85.714286</td>\n",
       "    </tr>\n",
       "    <tr>\n",
       "      <th>11</th>\n",
       "      <td>south ameriaca</td>\n",
       "      <td>&gt;50k</td>\n",
       "      <td>4</td>\n",
       "      <td>14.285714</td>\n",
       "    </tr>\n",
       "    <tr>\n",
       "      <th>12</th>\n",
       "      <td>south america</td>\n",
       "      <td>&lt;=50k</td>\n",
       "      <td>150</td>\n",
       "      <td>88.235294</td>\n",
       "    </tr>\n",
       "    <tr>\n",
       "      <th>13</th>\n",
       "      <td>south america</td>\n",
       "      <td>&gt;50k</td>\n",
       "      <td>20</td>\n",
       "      <td>11.764706</td>\n",
       "    </tr>\n",
       "  </tbody>\n",
       "</table>\n",
       "</div>"
      ],
      "text/plain": [
       "      native_region income  total_by_region  percentage\n",
       "0              asia  <=50k              465   69.299553\n",
       "1              asia   >50k              206   30.700447\n",
       "2   central america  <=50k              466   88.931298\n",
       "3   central america   >50k               58   11.068702\n",
       "4            europe  <=50k              369   70.825336\n",
       "5            europe   >50k              152   29.174664\n",
       "6     north america  <=50k            22769   75.848629\n",
       "7     north america   >50k             7250   24.151371\n",
       "8             other  <=50k              435   74.870912\n",
       "9             other   >50k              146   25.129088\n",
       "10   south ameriaca  <=50k               24   85.714286\n",
       "11   south ameriaca   >50k                4   14.285714\n",
       "12    south america  <=50k              150   88.235294\n",
       "13    south america   >50k               20   11.764706"
      ]
     },
     "execution_count": 219,
     "metadata": {},
     "output_type": "execute_result"
    }
   ],
   "source": [
    "total_per_native_region=adult_df_income_reg.groupby('native_region')['total_by_region'].transform('sum')\n",
    "adult_df_income_reg['percentage']=(adult_df_income_reg['total_by_region']/total_per_native_region)*100\n",
    "adult_df_income_reg"
   ]
  },
  {
   "cell_type": "code",
   "execution_count": 225,
   "id": "9c628169-0dde-45fc-8fe3-732554e18a86",
   "metadata": {},
   "outputs": [
    {
     "data": {
      "application/vnd.plotly.v1+json": {
       "config": {
        "plotlyServerURL": "https://plot.ly"
       },
       "data": [
        {
         "alignmentgroup": "True",
         "hovertemplate": "income=<=50k<br>native_region=%{x}<br>percentage=%{text}<extra></extra>",
         "legendgroup": "<=50k",
         "marker": {
          "color": "teal",
          "pattern": {
           "shape": ""
          }
         },
         "name": "<=50k",
         "offsetgroup": "<=50k",
         "orientation": "v",
         "showlegend": true,
         "text": {
          "_inputArray": {
           "0": 69.29955290611028,
           "1": 88.93129770992367,
           "2": 70.8253358925144,
           "3": 75.84862920150572,
           "4": 74.87091222030982,
           "5": 85.71428571428571,
           "6": 88.23529411764706,
           "bdata": "lsrz3ytTUUCPvbVhmjtWQB6kok3StFFAc7na8E/2UkC3+psGvbdSQNu2bdu2bVVADw8PDw8PVkA=",
           "dtype": "f8",
           "shape": "7"
          },
          "bdata": "lsrz3ytTUUCPvbVhmjtWQB6kok3StFFAc7na8E/2UkC3+psGvbdSQNu2bdu2bVVADw8PDw8PVkA=",
          "dtype": "f8"
         },
         "textposition": "outside",
         "texttemplate": "%{text:.2f}%",
         "type": "bar",
         "x": [
          "asia",
          "central america",
          "europe",
          "north america",
          "other",
          "south ameriaca",
          "south america"
         ],
         "xaxis": "x",
         "y": {
          "_inputArray": {
           "0": 69.29955290611028,
           "1": 88.93129770992367,
           "2": 70.8253358925144,
           "3": 75.84862920150572,
           "4": 74.87091222030982,
           "5": 85.71428571428571,
           "6": 88.23529411764706,
           "bdata": "lsrz3ytTUUCPvbVhmjtWQB6kok3StFFAc7na8E/2UkC3+psGvbdSQNu2bdu2bVVADw8PDw8PVkA=",
           "dtype": "f8",
           "shape": "7"
          },
          "bdata": "lsrz3ytTUUCPvbVhmjtWQB6kok3StFFAc7na8E/2UkC3+psGvbdSQNu2bdu2bVVADw8PDw8PVkA=",
          "dtype": "f8"
         },
         "yaxis": "y"
        },
        {
         "alignmentgroup": "True",
         "hovertemplate": "income=>50k<br>native_region=%{x}<br>percentage=%{text}<extra></extra>",
         "legendgroup": ">50k",
         "marker": {
          "color": "LightSeaGreen",
          "pattern": {
           "shape": ""
          }
         },
         "name": ">50k",
         "offsetgroup": ">50k",
         "orientation": "v",
         "showlegend": true,
         "text": {
          "_inputArray": {
           "0": 30.700447093889714,
           "1": 11.068702290076336,
           "2": 29.174664107485604,
           "3": 24.151370798494288,
           "4": 25.12908777969019,
           "5": 14.285714285714285,
           "6": 11.76470588235294,
           "bdata": "ptUwgFCzPkCLE1LyLCMmQIpvdcm2LD1ANRqVPMAmOEAnFZDlCyE5QCRJkiRJkixAh4eHh4eHJ0A=",
           "dtype": "f8",
           "shape": "7"
          },
          "bdata": "ptUwgFCzPkCLE1LyLCMmQIpvdcm2LD1ANRqVPMAmOEAnFZDlCyE5QCRJkiRJkixAh4eHh4eHJ0A=",
          "dtype": "f8"
         },
         "textposition": "outside",
         "texttemplate": "%{text:.2f}%",
         "type": "bar",
         "x": [
          "asia",
          "central america",
          "europe",
          "north america",
          "other",
          "south ameriaca",
          "south america"
         ],
         "xaxis": "x",
         "y": {
          "_inputArray": {
           "0": 30.700447093889714,
           "1": 11.068702290076336,
           "2": 29.174664107485604,
           "3": 24.151370798494288,
           "4": 25.12908777969019,
           "5": 14.285714285714285,
           "6": 11.76470588235294,
           "bdata": "ptUwgFCzPkCLE1LyLCMmQIpvdcm2LD1ANRqVPMAmOEAnFZDlCyE5QCRJkiRJkixAh4eHh4eHJ0A=",
           "dtype": "f8",
           "shape": "7"
          },
          "bdata": "ptUwgFCzPkCLE1LyLCMmQIpvdcm2LD1ANRqVPMAmOEAnFZDlCyE5QCRJkiRJkixAh4eHh4eHJ0A=",
          "dtype": "f8"
         },
         "yaxis": "y"
        }
       ],
       "layout": {
        "barmode": "group",
        "height": 500,
        "legend": {
         "title": {
          "text": "Income Level"
         },
         "tracegroupgap": 0
        },
        "paper_bgcolor": "rgba(0, 0, 0, 0)",
        "plot_bgcolor": "rgba(0, 0, 0, 0)",
        "template": {
         "data": {
          "pie": [
           {
            "automargin": true,
            "type": "pie"
           }
          ],
          "scatter": [
           {
            "line": {
             "width": 3
            },
            "marker": {
             "size": 9
            },
            "type": "scatter"
           }
          ],
          "scatter3d": [
           {
            "line": {
             "width": 3
            },
            "marker": {
             "size": 9
            },
            "type": "scatter3d"
           }
          ],
          "scattergeo": [
           {
            "line": {
             "width": 3
            },
            "marker": {
             "size": 9
            },
            "type": "scattergeo"
           }
          ],
          "scattergl": [
           {
            "line": {
             "width": 3
            },
            "marker": {
             "size": 9
            },
            "type": "scattergl"
           }
          ],
          "scatterpolar": [
           {
            "line": {
             "width": 3
            },
            "marker": {
             "size": 9
            },
            "type": "scatterpolar"
           }
          ],
          "scatterpolargl": [
           {
            "line": {
             "width": 3
            },
            "marker": {
             "size": 9
            },
            "type": "scatterpolargl"
           }
          ],
          "scatterternary": [
           {
            "line": {
             "width": 3
            },
            "marker": {
             "size": 9
            },
            "type": "scatterternary"
           }
          ],
          "table": [
           {
            "cells": {
             "height": 30
            },
            "header": {
             "height": 36
            },
            "type": "table"
           }
          ]
         },
         "layout": {
          "font": {
           "size": 18
          },
          "xaxis": {
           "title": {
            "standoff": 15
           }
          },
          "yaxis": {
           "title": {
            "standoff": 15
           }
          }
         }
        },
        "title": {
         "text": "Income Distribution by native region(%)"
        },
        "width": 1000,
        "xaxis": {
         "anchor": "y",
         "autorange": true,
         "domain": [
          0,
          1
         ],
         "range": [
          -0.5,
          6.5
         ],
         "title": {
          "text": "Native Region"
         },
         "type": "category"
        },
        "yaxis": {
         "anchor": "x",
         "autorange": true,
         "domain": [
          0,
          1
         ],
         "range": [
          0,
          93.61189232623545
         ],
         "title": {
          "text": "Percentage of population"
         },
         "type": "linear"
        }
       }
      },
      "image/png": "[encoded data removed]"
     },
     "metadata": {},
     "output_type": "display_data"
    }
   ],
   "source": [
    "fig=px.bar(adult_df_income_reg,\n",
    "           x='native_region',\n",
    "           y='percentage',\n",
    "           color='income',\n",
    "           title='Income Distribution by native region(%)',\n",
    "           color_discrete_sequence=[\"teal\",\"LightSeaGreen\"],\n",
    "           barmode='group',\n",
    "           text='percentage',\n",
    "           width=1000,\n",
    "           height=500\n",
    "           \n",
    "           \n",
    "              \n",
    ")\n",
    "fig.update_layout(template=\"presentation\",\n",
    "                 xaxis_title='Native Region',\n",
    "                  yaxis_title='Percentage of population',\n",
    "                  legend_title=dict(text='Income Level'),\n",
    "                 paper_bgcolor=\"rgba(0,0,0,0)\",plot_bgcolor=(\"rgba(0,0,0,0)\")\n",
    "                 )\n",
    "fig.update_traces(texttemplate='%{text:.2f}%',textposition='outside') \n",
    "fig.show()\n",
    "fig.write_image(os.path.join(result_dir,'income_distribution_byNativeRegion_bar_chart.jpg'))\n",
    "fig.write_image(os.path.join(result_dir,'income_distribution_byNativeRegion_bar_chart.png'))\n",
    "fig.write_html(os.path.join(result_dir,'income_distribution_byNativeRegion_bar_chart.html'))"
   ]
  },
  {
   "cell_type": "code",
   "execution_count": 222,
   "id": "e7f41a45-c17a-4b76-b0c2-17f9e26b3123",
   "metadata": {},
   "outputs": [
    {
     "data": {
      "text/html": [
       "<div>\n",
       "<style scoped>\n",
       "    .dataframe tbody tr th:only-of-type {\n",
       "        vertical-align: middle;\n",
       "    }\n",
       "\n",
       "    .dataframe tbody tr th {\n",
       "        vertical-align: top;\n",
       "    }\n",
       "\n",
       "    .dataframe thead th {\n",
       "        text-align: right;\n",
       "    }\n",
       "</style>\n",
       "<table border=\"1\" class=\"dataframe\">\n",
       "  <thead>\n",
       "    <tr style=\"text-align: right;\">\n",
       "      <th></th>\n",
       "      <th>race</th>\n",
       "      <th>income</th>\n",
       "      <th>total_by_race</th>\n",
       "    </tr>\n",
       "  </thead>\n",
       "  <tbody>\n",
       "    <tr>\n",
       "      <th>0</th>\n",
       "      <td>american indian or eskimo</td>\n",
       "      <td>&lt;=50k</td>\n",
       "      <td>275</td>\n",
       "    </tr>\n",
       "    <tr>\n",
       "      <th>1</th>\n",
       "      <td>american indian or eskimo</td>\n",
       "      <td>&gt;50k</td>\n",
       "      <td>36</td>\n",
       "    </tr>\n",
       "    <tr>\n",
       "      <th>2</th>\n",
       "      <td>asian or pacific islander</td>\n",
       "      <td>&lt;=50k</td>\n",
       "      <td>762</td>\n",
       "    </tr>\n",
       "    <tr>\n",
       "      <th>3</th>\n",
       "      <td>asian or pacific islander</td>\n",
       "      <td>&gt;50k</td>\n",
       "      <td>276</td>\n",
       "    </tr>\n",
       "    <tr>\n",
       "      <th>4</th>\n",
       "      <td>black</td>\n",
       "      <td>&lt;=50k</td>\n",
       "      <td>2735</td>\n",
       "    </tr>\n",
       "    <tr>\n",
       "      <th>5</th>\n",
       "      <td>black</td>\n",
       "      <td>&gt;50k</td>\n",
       "      <td>387</td>\n",
       "    </tr>\n",
       "    <tr>\n",
       "      <th>6</th>\n",
       "      <td>other</td>\n",
       "      <td>&lt;=50k</td>\n",
       "      <td>246</td>\n",
       "    </tr>\n",
       "    <tr>\n",
       "      <th>7</th>\n",
       "      <td>other</td>\n",
       "      <td>&gt;50k</td>\n",
       "      <td>25</td>\n",
       "    </tr>\n",
       "    <tr>\n",
       "      <th>8</th>\n",
       "      <td>white</td>\n",
       "      <td>&lt;=50k</td>\n",
       "      <td>20660</td>\n",
       "    </tr>\n",
       "    <tr>\n",
       "      <th>9</th>\n",
       "      <td>white</td>\n",
       "      <td>&gt;50k</td>\n",
       "      <td>7112</td>\n",
       "    </tr>\n",
       "  </tbody>\n",
       "</table>\n",
       "</div>"
      ],
      "text/plain": [
       "                        race income  total_by_race\n",
       "0  american indian or eskimo  <=50k            275\n",
       "1  american indian or eskimo   >50k             36\n",
       "2  asian or pacific islander  <=50k            762\n",
       "3  asian or pacific islander   >50k            276\n",
       "4                      black  <=50k           2735\n",
       "5                      black   >50k            387\n",
       "6                      other  <=50k            246\n",
       "7                      other   >50k             25\n",
       "8                      white  <=50k          20660\n",
       "9                      white   >50k           7112"
      ]
     },
     "execution_count": 222,
     "metadata": {},
     "output_type": "execute_result"
    }
   ],
   "source": [
    "adult_df_income_race=adult_df.groupby(['race','income']).size().reset_index(name='total_by_race')\n",
    "adult_df_income_race"
   ]
  },
  {
   "cell_type": "code",
   "execution_count": 227,
   "id": "58d1ada0-9f0b-4b61-ba47-1de7856d753f",
   "metadata": {},
   "outputs": [
    {
     "data": {
      "text/html": [
       "<div>\n",
       "<style scoped>\n",
       "    .dataframe tbody tr th:only-of-type {\n",
       "        vertical-align: middle;\n",
       "    }\n",
       "\n",
       "    .dataframe tbody tr th {\n",
       "        vertical-align: top;\n",
       "    }\n",
       "\n",
       "    .dataframe thead th {\n",
       "        text-align: right;\n",
       "    }\n",
       "</style>\n",
       "<table border=\"1\" class=\"dataframe\">\n",
       "  <thead>\n",
       "    <tr style=\"text-align: right;\">\n",
       "      <th></th>\n",
       "      <th>race</th>\n",
       "      <th>income</th>\n",
       "      <th>total_by_race</th>\n",
       "      <th>percentage</th>\n",
       "    </tr>\n",
       "  </thead>\n",
       "  <tbody>\n",
       "    <tr>\n",
       "      <th>0</th>\n",
       "      <td>american indian or eskimo</td>\n",
       "      <td>&lt;=50k</td>\n",
       "      <td>275</td>\n",
       "      <td>88.424437</td>\n",
       "    </tr>\n",
       "    <tr>\n",
       "      <th>1</th>\n",
       "      <td>american indian or eskimo</td>\n",
       "      <td>&gt;50k</td>\n",
       "      <td>36</td>\n",
       "      <td>11.575563</td>\n",
       "    </tr>\n",
       "    <tr>\n",
       "      <th>2</th>\n",
       "      <td>asian or pacific islander</td>\n",
       "      <td>&lt;=50k</td>\n",
       "      <td>762</td>\n",
       "      <td>73.410405</td>\n",
       "    </tr>\n",
       "    <tr>\n",
       "      <th>3</th>\n",
       "      <td>asian or pacific islander</td>\n",
       "      <td>&gt;50k</td>\n",
       "      <td>276</td>\n",
       "      <td>26.589595</td>\n",
       "    </tr>\n",
       "    <tr>\n",
       "      <th>4</th>\n",
       "      <td>black</td>\n",
       "      <td>&lt;=50k</td>\n",
       "      <td>2735</td>\n",
       "      <td>87.604100</td>\n",
       "    </tr>\n",
       "    <tr>\n",
       "      <th>5</th>\n",
       "      <td>black</td>\n",
       "      <td>&gt;50k</td>\n",
       "      <td>387</td>\n",
       "      <td>12.395900</td>\n",
       "    </tr>\n",
       "    <tr>\n",
       "      <th>6</th>\n",
       "      <td>other</td>\n",
       "      <td>&lt;=50k</td>\n",
       "      <td>246</td>\n",
       "      <td>90.774908</td>\n",
       "    </tr>\n",
       "    <tr>\n",
       "      <th>7</th>\n",
       "      <td>other</td>\n",
       "      <td>&gt;50k</td>\n",
       "      <td>25</td>\n",
       "      <td>9.225092</td>\n",
       "    </tr>\n",
       "    <tr>\n",
       "      <th>8</th>\n",
       "      <td>white</td>\n",
       "      <td>&lt;=50k</td>\n",
       "      <td>20660</td>\n",
       "      <td>74.391473</td>\n",
       "    </tr>\n",
       "    <tr>\n",
       "      <th>9</th>\n",
       "      <td>white</td>\n",
       "      <td>&gt;50k</td>\n",
       "      <td>7112</td>\n",
       "      <td>25.608527</td>\n",
       "    </tr>\n",
       "  </tbody>\n",
       "</table>\n",
       "</div>"
      ],
      "text/plain": [
       "                        race income  total_by_race  percentage\n",
       "0  american indian or eskimo  <=50k            275   88.424437\n",
       "1  american indian or eskimo   >50k             36   11.575563\n",
       "2  asian or pacific islander  <=50k            762   73.410405\n",
       "3  asian or pacific islander   >50k            276   26.589595\n",
       "4                      black  <=50k           2735   87.604100\n",
       "5                      black   >50k            387   12.395900\n",
       "6                      other  <=50k            246   90.774908\n",
       "7                      other   >50k             25    9.225092\n",
       "8                      white  <=50k          20660   74.391473\n",
       "9                      white   >50k           7112   25.608527"
      ]
     },
     "execution_count": 227,
     "metadata": {},
     "output_type": "execute_result"
    }
   ],
   "source": [
    "total_per_race=adult_df_income_race.groupby('race')['total_by_race'].transform('sum')\n",
    "adult_df_income_race['percentage']=(adult_df_income_race['total_by_race']/total_per_race)*100\n",
    "adult_df_income_race"
   ]
  },
  {
   "cell_type": "code",
   "execution_count": null,
   "id": "f20895a5-c147-4a04-a4c3-0598b4cc5ce4",
   "metadata": {},
   "outputs": [
    {
     "data": {
      "application/vnd.plotly.v1+json": {
       "config": {
        "plotlyServerURL": "https://plot.ly"
       },
       "data": [
        {
         "alignmentgroup": "True",
         "hovertemplate": "income=<=50k<br>race=%{x}<br>percentage=%{text}<extra></extra>",
         "legendgroup": "<=50k",
         "marker": {
          "color": "teal",
          "pattern": {
           "shape": ""
          }
         },
         "name": "<=50k",
         "offsetgroup": "<=50k",
         "orientation": "v",
         "showlegend": true,
         "text": {
          "_inputArray": {
           "0": 88.42443729903538,
           "1": 73.41040462427746,
           "2": 87.6040999359385,
           "3": 90.7749077490775,
           "4": 74.39147342647271,
           "bdata": "z6MP+ykbVkCH2cERRFpSQMgXx5Kp5lVAHO2rFpixVkAE/Y7mDZlSQA==",
           "dtype": "f8",
           "shape": "5"
          },
          "bdata": "z6MP+ykbVkCH2cERRFpSQMgXx5Kp5lVAHO2rFpixVkAE/Y7mDZlSQA==",
          "dtype": "f8"
         },
         "textposition": "outside",
         "texttemplate": "%{text:.2f}%",
         "type": "bar",
         "x": [
          "american indian or eskimo",
          "asian or pacific islander",
          "black",
          "other",
          "white"
         ],
         "xaxis": "x",
         "y": {
          "_inputArray": {
           "0": 88.42443729903538,
           "1": 73.41040462427746,
           "2": 87.6040999359385,
           "3": 90.7749077490775,
           "4": 74.39147342647271,
           "bdata": "z6MP+ykbVkCH2cERRFpSQMgXx5Kp5lVAHO2rFpixVkAE/Y7mDZlSQA==",
           "dtype": "f8",
           "shape": "5"
          },
          "bdata": "z6MP+ykbVkCH2cERRFpSQMgXx5Kp5lVAHO2rFpixVkAE/Y7mDZlSQA==",
          "dtype": "f8"
         },
         "yaxis": "y"
        },
        {
         "alignmentgroup": "True",
         "hovertemplate": "income=>50k<br>race=%{x}<br>percentage=%{text}<extra></extra>",
         "legendgroup": ">50k",
         "marker": {
          "color": "LightSeaGreen",
          "pattern": {
           "shape": ""
          }
         },
         "name": ">50k",
         "offsetgroup": ">50k",
         "orientation": "v",
         "showlegend": true,
         "text": {
          "_inputArray": {
           "0": 11.57556270096463,
           "1": 26.589595375722542,
           "2": 12.395900064061498,
           "3": 9.22509225092251,
           "4": 25.608526573527296,
           "bdata": "i+GCJ7AmJ0Dlmfi475Y6QMNBx2mzyihAJZegSj9zIkDzC8RlyJs5QA==",
           "dtype": "f8",
           "shape": "5"
          },
          "bdata": "i+GCJ7AmJ0Dlmfi475Y6QMNBx2mzyihAJZegSj9zIkDzC8RlyJs5QA==",
          "dtype": "f8"
         },
         "textposition": "outside",
         "texttemplate": "%{text:.2f}%",
         "type": "bar",
         "x": [
          "american indian or eskimo",
          "asian or pacific islander",
          "black",
          "other",
          "white"
         ],
         "xaxis": "x",
         "y": {
          "_inputArray": {
           "0": 11.57556270096463,
           "1": 26.589595375722542,
           "2": 12.395900064061498,
           "3": 9.22509225092251,
           "4": 25.608526573527296,
           "bdata": "i+GCJ7AmJ0Dlmfi475Y6QMNBx2mzyihAJZegSj9zIkDzC8RlyJs5QA==",
           "dtype": "f8",
           "shape": "5"
          },
          "bdata": "i+GCJ7AmJ0Dlmfi475Y6QMNBx2mzyihAJZegSj9zIkDzC8RlyJs5QA==",
          "dtype": "f8"
         },
         "yaxis": "y"
        }
       ],
       "layout": {
        "autosize": true,
        "barmode": "group",
        "legend": {
         "title": {
          "text": "Income Level"
         },
         "tracegroupgap": 0
        },
        "paper_bgcolor": "rgba(0, 0, 0, 0)",
        "plot_bgcolor": "rgba(0, 0, 0, 0)",
        "template": {
         "data": {
          "pie": [
           {
            "automargin": true,
            "type": "pie"
           }
          ],
          "scatter": [
           {
            "line": {
             "width": 3
            },
            "marker": {
             "size": 9
            },
            "type": "scatter"
           }
          ],
          "scatter3d": [
           {
            "line": {
             "width": 3
            },
            "marker": {
             "size": 9
            },
            "type": "scatter3d"
           }
          ],
          "scattergeo": [
           {
            "line": {
             "width": 3
            },
            "marker": {
             "size": 9
            },
            "type": "scattergeo"
           }
          ],
          "scattergl": [
           {
            "line": {
             "width": 3
            },
            "marker": {
             "size": 9
            },
            "type": "scattergl"
           }
          ],
          "scatterpolar": [
           {
            "line": {
             "width": 3
            },
            "marker": {
             "size": 9
            },
            "type": "scatterpolar"
           }
          ],
          "scatterpolargl": [
           {
            "line": {
             "width": 3
            },
            "marker": {
             "size": 9
            },
            "type": "scatterpolargl"
           }
          ],
          "scatterternary": [
           {
            "line": {
             "width": 3
            },
            "marker": {
             "size": 9
            },
            "type": "scatterternary"
           }
          ],
          "table": [
           {
            "cells": {
             "height": 30
            },
            "header": {
             "height": 36
            },
            "type": "table"
           }
          ]
         },
         "layout": {
          "font": {
           "size": 18
          },
          "xaxis": {
           "title": {
            "standoff": 15
           }
          },
          "yaxis": {
           "title": {
            "standoff": 15
           }
          }
         }
        },
        "title": {
         "text": "Income Distribution by Race"
        },
        "xaxis": {
         "anchor": "y",
         "autorange": true,
         "domain": [
          0,
          1
         ],
         "range": [
          -0.5,
          4.5
         ],
         "title": {
          "text": "Race"
         },
         "type": "category"
        },
        "yaxis": {
         "anchor": "x",
         "autorange": true,
         "domain": [
          0,
          1
         ],
         "range": [
          0,
          95.55253447271316
         ],
         "title": {
          "text": "Percentage of population"
         },
         "type": "linear"
        }
       }
      },
      "image/png": "[encoded data removed]"
     },
     "metadata": {},
     "output_type": "display_data"
    }
   ],
   "source": [
    "fig=px.bar(adult_df_income_race,\n",
    "           x='race',\n",
    "           y='percentage',\n",
    "           color='income',\n",
    "           title='Income Distribution by Race',\n",
    "           color_discrete_sequence=[\"teal\",\"LightSeaGreen\"],\n",
    "           barmode='group',\n",
    "           text='percentage'\n",
    "           \n",
    "              \n",
    ")\n",
    "fig.update_layout(template=\"presentation\",\n",
    "                 xaxis_title='Race',\n",
    "                  yaxis_title='Percentage of population',\n",
    "                  legend_title=dict(text='Income Level'),\n",
    "                 paper_bgcolor=\"rgba(0,0,0,0)\",plot_bgcolor=(\"rgba(0,0,0,0)\"))\n",
    "fig.update_traces(texttemplate='%{text:.2f}%',textposition='outside')\n",
    "fig.show()\n",
    "fig.write_image(os.path.join(result_dir,'income_distribution-Race-bar_chart.jpg'))\n",
    "fig.write_image(os.path.join(result_dir,'income_distribution-Race_bar_chart.png'))\n",
    "fig.write_html(os.path.join(result_dir,'income_distribution-Race_bar_chart.html'))"
   ]
  },
  {
   "cell_type": "code",
   "execution_count": null,
   "id": "8a27685c-3ed0-4f46-9c60-299d5bd02665",
   "metadata": {},
   "outputs": [],
   "source": [
    "adult_df_income_edu_occ = (\n",
    "    adult_df.groupby(['education_level', 'occupation_grouped', 'income'])\n",
    "            .size()\n",
    "            .reset_index(name='total')\n",
    "            .sort_values('total', ascending=False)\n",
    ")\n",
    "\n",
    "adult_df_income_edu_occ\n"
   ]
  },
  {
   "cell_type": "code",
   "execution_count": null,
   "id": "4941bef9-0d00-4c93-98bc-bdf081cd5abb",
   "metadata": {},
   "outputs": [],
   "source": [
    "adult_df_income_edu_occ['edu_occ'] = (adult_df_income_edu_occ['education_level'] + \" | \" + adult_df_income_edu_occ['occupation_grouped']) \n",
    "adult_df_income_edu_occ"
   ]
  },
  {
   "cell_type": "code",
   "execution_count": null,
   "id": "b0abbcf3-565b-45be-bb89-78ded6611d39",
   "metadata": {},
   "outputs": [],
   "source": [
    "num=15\n",
    "adult_df_combos = adult_df_income_edu_occ.head(num)\n",
    "fig = px.bar(\n",
    "    adult_df_combos,\n",
    "    x = 'total',\n",
    "    y = 'edu_occ',\n",
    "    color = 'income',\n",
    "    orientation = 'h',\n",
    "    title = f'Top{num} Education and Occupation Groups Combinations by Income Group',\n",
    "    # barmode = 'group',\n",
    "    height = 500,\n",
    "    width=1100,\n",
    "   color_discrete_sequence=[\"teal\",\"LightSeaGreen\"],\n",
    "    text = 'total'\n",
    ")\n",
    "\n",
    "fig.update_layout(template=\"presentation\", xaxis_title='Number of Individuals',\n",
    "                  yaxis_title='Education | Occupation Group',\n",
    "                  legend_title=dict(text='Income Level'),\n",
    "                margin=dict(l=450, r=50, t= 50, b=50))\n",
    "\n",
    "fig.show()\n",
    "fig.write_image(os.path.join(result_dir,'income_distribution-EduOccupa-bar_chart.jpg'))\n",
    "fig.write_image(os.path.join(result_dir,'income_distribution-EduOccupa_bar_chart.png'))\n",
    "fig.write_html(os.path.join(result_dir,'income_distribution-EduOccupa_bar_chart.html'))"
   ]
  },
  {
   "cell_type": "code",
   "execution_count": null,
   "id": "d4aa42c0-c746-4cfa-b5b9-a70b748cea00",
   "metadata": {},
   "outputs": [],
   "source": []
  }
 ],
 "metadata": {
  "kernelspec": {
   "display_name": "Python [conda env:base] *",
   "language": "python",
   "name": "conda-base-py"
  },
  "language_info": {
   "codemirror_mode": {
    "name": "ipython",
    "version": 3
   },
   "file_extension": ".py",
   "mimetype": "text/x-python",
   "name": "python",
   "nbconvert_exporter": "python",
   "pygments_lexer": "ipython3",
   "version": "3.12.7"
  }
 },
 "nbformat": 4,
 "nbformat_minor": 5
}
